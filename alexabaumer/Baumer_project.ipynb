{
 "cells": [
  {
   "cell_type": "markdown",
   "metadata": {
    "collapsed": true
   },
   "source": [
    "## Blind as a bat, how does the cave fish navigate?"
   ]
  },
  {
   "cell_type": "markdown",
   "metadata": {},
   "source": [
    "The Mexican blind cave fish (Astyanax mexicanus) is a freshwater fish living in large sections of the southwest, including New Mexico, Texas and eastern and central Mexico (1). Populations of this fish dwell in dark caves, resulting in de-pigmentation and degenerated or total loss of eyesight. Due to the commonality of the Astyanax and the two separate populations, surface and cave, it has been an ideal model for studying eye development- and lack thereof (2). Even though the cave population of the fish are blind, they are still able to avoid objects and hunt for prey by using their lateral line. This sensory system allows a fish to respond to changes in its surroundings by detecting flow stimuli, governed by hydrodynamics (3). \n"
   ]
  },
  {
   "cell_type": "code",
   "execution_count": 1,
   "metadata": {
    "collapsed": false
   },
   "outputs": [
    {
     "data": {
      "image/jpeg": "[encoded data removed]",
      "text/plain": [
       "<IPython.core.display.Image object>"
      ]
     },
     "execution_count": 1,
     "metadata": {},
     "output_type": "execute_result"
    }
   ],
   "source": [
    "from IPython.display import Image\n",
    "Image(\"image_blindCaveFish.jpg\")"
   ]
  },
  {
   "cell_type": "markdown",
   "metadata": {},
   "source": [
    "This project will explore the changes in flow around a blind cave fish as it glides towards a wall by using potential flow theory. Building off work done by Hassan (1991), this project will use a panel method on a NACA 0012 airfoil to represent the body of the fish. After establishing what the flow looks like surrounding the fish in open water, a wall will be added to the flow and the body of the fish will be moved progressively closer to the wall, looking at changes in streamlines and pressure coefficient along the body.  \n"
   ]
  },
  {
   "cell_type": "code",
   "execution_count": 2,
   "metadata": {
    "collapsed": true
   },
   "outputs": [],
   "source": [
    "#First, let's import our libraries \n",
    "import numpy\n",
    "import os\n",
    "import math\n",
    "from scipy import integrate\n",
    "from matplotlib import pyplot \n",
    "from pylab import rcParams\n",
    "%matplotlib inline "
   ]
  },
  {
   "cell_type": "markdown",
   "metadata": {},
   "source": [
    "Next, we will define our grid and import our chosen airfoil, the NACA0012. "
   ]
  },
  {
   "cell_type": "code",
   "execution_count": 3,
   "metadata": {
    "collapsed": true
   },
   "outputs": [],
   "source": [
    "Ng = 200                                    #number of grid points\n",
    "x_start, x_end = -1.0, 3.0                  #grid boundaries- x direction\n",
    "y_start, y_end = -2.0, 2.0                  #grid boundaries- y direction\n",
    "x = numpy.linspace(x_start, x_end, Ng)\n",
    "y = numpy.linspace(y_start, y_end, Ng)\n",
    "X,Y = numpy.meshgrid(x,y)\n",
    "\n",
    "u_inf = 1.0                                 #our infinite velocity"
   ]
  },
  {
   "cell_type": "code",
   "execution_count": 4,
   "metadata": {
    "collapsed": false
   },
   "outputs": [],
   "source": [
    "#Importing the NACA airfoil\n",
    "naca_filepath = os.path.join('naca0012.dat')\n",
    "with open (naca_filepath, 'r') as file_name:\n",
    "    x_fish, y_fish = numpy.loadtxt(file_name, dtype=float, delimiter='\\t', unpack=True)\n",
    "\n",
    "x_fish100 = x_fish + 1.0                   #our wall will be at (0.0, 0.0) so we offset our fish by 1.0 to start"
   ]
  },
  {
   "cell_type": "code",
   "execution_count": 5,
   "metadata": {
    "collapsed": true
   },
   "outputs": [],
   "source": [
    "#Let's also set up some plotting parameters for consistency\n",
    "xP_start, xP_end = -0.5, 2.5\n",
    "yP_start, yP_end = -1.0, 1.0"
   ]
  },
  {
   "cell_type": "markdown",
   "metadata": {},
   "source": [
    "To approach this problem, we will be repurposing some code we have already worked with in previous lessons (lucky us!)... By using our principle of superposition, we can combine our flow around a wall and our flow around an airfoil in freestream to solve this problem. "
   ]
  },
  {
   "cell_type": "code",
   "execution_count": 6,
   "metadata": {
    "collapsed": true
   },
   "outputs": [],
   "source": [
    "#First up, our panel method used for discretizing our airfoil\n",
    "class Panel:\n",
    "    \"\"\"\n",
    "    Contains information related to a panel.\n",
    "    \"\"\"\n",
    "    def __init__(self, xa, ya, xb, yb):\n",
    "        \"\"\"\n",
    "        Initializes the panel.\n",
    "        \n",
    "        Sets the end-points and calculates the center, length,\n",
    "        and angle (with the x-axis) of the panel.\n",
    "        Defines if the panel is on the lower or upper surface of the geometry.\n",
    "        Initializes the source-sheet strength, tangential velocity,\n",
    "        and pressure coefficient to zero.\n",
    "        \n",
    "        Parameters\n",
    "        ----------\n",
    "        xa: float\n",
    "            x-coordinate of the first end-point.\n",
    "        ya: float\n",
    "            y-coordinate of the first end-point.\n",
    "        xb: float\n",
    "            x-coordinate of the second end-point.\n",
    "        yb: float\n",
    "            y-coordinate of the second end-point.\n",
    "        \"\"\"\n",
    "        self.xa, self.ya = xa, ya\n",
    "        self.xb, self.yb = xb, yb\n",
    "        \n",
    "        self.xc, self.yc = (xa+xb)/2, (ya+yb)/2       # control-point (center-point)\n",
    "        self.length = math.sqrt((xb-xa)**2+(yb-ya)**2)     # length of the panel\n",
    "        \n",
    "        # orientation of the panel (angle between x-axis and panel's normal)\n",
    "        if xb-xa <= 0.:\n",
    "            self.beta = math.acos((yb-ya)/self.length)\n",
    "        elif xb-xa > 0.:\n",
    "            self.beta = math.pi + math.acos(-(yb-ya)/self.length)\n",
    "        \n",
    "        # location of the panel\n",
    "        if self.beta <= math.pi:\n",
    "            self.loc = 'upper'\n",
    "        else:\n",
    "            self.loc = 'lower'\n",
    "        \n",
    "        self.sigma = 0.                             # source strength\n",
    "        self.vt = 0.                                # tangential velocity\n",
    "        self.cp = 0.                                # pressure coefficient\n",
    "        \n",
    "def define_panels(x, y, N=40):\n",
    "    \"\"\" \n",
    "    Discretizes the geometry into panels using the cosine\n",
    "    \n",
    "    x: x-coordinate of the points defining the geometry \n",
    "    y: y-coordinate of the points defining the geometry \n",
    "    N: number of panels \n",
    "    \n",
    "    panels: the discretization of the geometry into panels \n",
    "    \"\"\"\n",
    "    \n",
    "    R = (x.max()-x.min())/2           #radius of circle\n",
    "    x_center = (x.max()+x.min())/2            #x coordinate of the center\n",
    "    x_circle = x_center + R*numpy.cos(numpy.linspace(0, 2*math.pi, N+1))  #x coordinates of the circle points\n",
    "    \n",
    "    x_ends = numpy.copy(x_circle)     #projection of the x coord on the surface\n",
    "    y_ends = numpy.empty_like(x_ends)   #initialization of y coord numpy array\n",
    "    \n",
    "    x, y = numpy.append(x, x[0]), numpy.append(y, y[0])   #extend arrays using numpy.append\n",
    "    \n",
    "    #computes the y-coordinate of end points \n",
    "    \n",
    "    I = 0\n",
    "    for i in range(N):\n",
    "        while I < len(x)-1:\n",
    "            if (x[I] <= x_ends[i] <= x[I+1]) or (x[I+1] <= x_ends[i] <= x[I]):\n",
    "                break \n",
    "            else:\n",
    "                I += 1\n",
    "                \n",
    "        a = (y[I+1] - y[I]) / (x[I+1] - x[I])\n",
    "        b = y[I+1] - a*x[I+1]\n",
    "        y_ends[i] = a*x_ends[i] + b\n",
    "        \n",
    "    y_ends[N] = y_ends[0]\n",
    "    \n",
    "    panels = numpy.empty(N, dtype=object)\n",
    "    for i in range(N):\n",
    "        panels[i] = Panel(x_ends[i], y_ends[i], x_ends[i+1], y_ends[i+1])\n",
    "        \n",
    "    return panels"
   ]
  },
  {
   "cell_type": "code",
   "execution_count": 7,
   "metadata": {
    "collapsed": false
   },
   "outputs": [],
   "source": [
    "N = 50 \n",
    "panels = define_panels(x_fish100, y_fish, N)"
   ]
  },
  {
   "cell_type": "code",
   "execution_count": 8,
   "metadata": {
    "collapsed": true
   },
   "outputs": [],
   "source": [
    "#What does the fish look like in freestream? We will adapt our code from Lesson 10 to find out!\n",
    "class Freestream:\n",
    "    \"\"\"\n",
    "    Freestream conditions\n",
    "    \"\"\"\n",
    "    def __init__(self, u_inf=1.0, alpha=0.0):\n",
    "        \"\"\"\n",
    "        Sets the freestream speed and angle with the x axis \n",
    "        \n",
    "        u_inf: freestream speed \n",
    "        alpha: angle of attack in degrees\"\"\"\n",
    "        \n",
    "        self.u_inf = u_inf\n",
    "        self.alpha = alpha*math.pi/180"
   ]
  },
  {
   "cell_type": "code",
   "execution_count": 9,
   "metadata": {
    "collapsed": true
   },
   "outputs": [],
   "source": [
    "alpha = 0.0 \n",
    "freestream = Freestream(u_inf, alpha)"
   ]
  },
  {
   "cell_type": "code",
   "execution_count": 10,
   "metadata": {
    "collapsed": true
   },
   "outputs": [],
   "source": [
    "def integral(x, y, panel, dxdz, dydz):\n",
    " \n",
    "    def integrand(s):\n",
    "        return ( ((x - (panel.xa - math.sin(panel.beta)*s))*dxdz\n",
    "                  +(y - (panel.ya + math.cos(panel.beta)*s))*dydz)\n",
    "                / ((x - (panel.xa - math.sin(panel.beta)*s))**2\n",
    "                   +(y - (panel.ya + math.cos(panel.beta)*s))**2) )\n",
    "    return integrate.quad(integrand, 0.0, panel.length)[0]"
   ]
  },
  {
   "cell_type": "code",
   "execution_count": 11,
   "metadata": {
    "collapsed": true
   },
   "outputs": [],
   "source": [
    "def build_matrix(panels):\n",
    "    \"\"\"Builds the source matrix \n",
    "    panels: the source panels\n",
    "    A: the source matrix, NxN matrix\n",
    "    \"\"\"\n",
    "    N = len(panels)\n",
    "    A = numpy.empty((N, N), dtype=float)\n",
    "    numpy.fill_diagonal(A, 0.5)\n",
    "    \n",
    "    for i, p_i in enumerate(panels):\n",
    "        for j, p_j in enumerate(panels):\n",
    "            if i != j:\n",
    "                A[i, j] = 0.5/math.pi*integral(p_i.xc, p_i.yc, p_j, math.cos(p_i.beta), math.sin(p_i.beta))\n",
    "                \n",
    "    return A \n",
    "\n",
    "def build_rhs(panels, freestream):\n",
    "    \"\"\"Builds the RHS of the linear system\n",
    "    panels: the source panels\n",
    "    freestream: freestream conditions \n",
    "    b: RHS of the linear system\"\"\"\n",
    "    \n",
    "    b = numpy.empty(len(panels), dtype=float)\n",
    "    \n",
    "    for i, panel in enumerate(panels):\n",
    "        b[i] = -freestream.u_inf * math.cos(freestream.alpha - panel.beta)\n",
    "        \n",
    "    return b"
   ]
  },
  {
   "cell_type": "code",
   "execution_count": 12,
   "metadata": {
    "collapsed": true
   },
   "outputs": [],
   "source": [
    "A = build_matrix(panels)\n",
    "b = build_rhs(panels, freestream)"
   ]
  },
  {
   "cell_type": "code",
   "execution_count": 13,
   "metadata": {
    "collapsed": true
   },
   "outputs": [],
   "source": [
    "#solve the linear system \n",
    "def solve_linear_system(A,b,panels): \n",
    "    \n",
    "    sigma = numpy.linalg.solve(A, b)\n",
    "\n",
    "    for i, panel in enumerate(panels):\n",
    "        panel.sigma = sigma[i]"
   ]
  },
  {
   "cell_type": "code",
   "execution_count": 14,
   "metadata": {
    "collapsed": true
   },
   "outputs": [],
   "source": [
    "solve_linear_system(A,b,panels)"
   ]
  },
  {
   "cell_type": "code",
   "execution_count": 15,
   "metadata": {
    "collapsed": true
   },
   "outputs": [],
   "source": [
    "def get_tangential_velocity(panels, freestream):\n",
    "    \"\"\"Computes the tangential velocity on the surface of the panel \n",
    "    panels: the source panels\n",
    "    freestream: the freestream conditions \n",
    "    \"\"\"\n",
    "    N = len(panels)\n",
    "    A = numpy.empty((N,N), dtype=float)\n",
    "    numpy.fill_diagonal(A, 0.0)\n",
    "    \n",
    "    for i, p_i in enumerate(panels):\n",
    "        for j, p_j in enumerate(panels):\n",
    "            if i != j:\n",
    "                A[i,j] = 0.5/math.pi*integral(p_i.xc, p_i.yc, p_j, -math.sin(p_i.beta), math.cos(p_i.beta))\n",
    "                \n",
    "    b = freestream.u_inf * numpy.sin([freestream.alpha - panel.beta for panel in panels])\n",
    "    \n",
    "    sigma = numpy.array([panel.sigma for panel in panels])\n",
    "    \n",
    "    vt = numpy.dot(A, sigma) + b\n",
    "    \n",
    "    for i, panel in enumerate(panels):\n",
    "        panel.vt = vt[i]"
   ]
  },
  {
   "cell_type": "code",
   "execution_count": 16,
   "metadata": {
    "collapsed": false
   },
   "outputs": [],
   "source": [
    "#compute the tangential velocity at the center-point of each panel \n",
    "get_tangential_velocity(panels, freestream)"
   ]
  },
  {
   "cell_type": "code",
   "execution_count": 17,
   "metadata": {
    "collapsed": true
   },
   "outputs": [],
   "source": [
    "def get_pressure_coefficient(panels, freestream):\n",
    "    \"\"\"Computes the surface pressure coefficients on the panels\n",
    "    panels: source panels\n",
    "    freestream: freestream conditions\n",
    "    \"\"\"\n",
    "    for panel in panels:\n",
    "        panel.cp = 1.0 - (panel.vt/freestream.u_inf)**2"
   ]
  },
  {
   "cell_type": "code",
   "execution_count": 18,
   "metadata": {
    "collapsed": true
   },
   "outputs": [],
   "source": [
    "get_pressure_coefficient(panels, freestream)"
   ]
  },
  {
   "cell_type": "code",
   "execution_count": 19,
   "metadata": {
    "collapsed": false
   },
   "outputs": [
    {
     "name": "stdout",
     "output_type": "stream",
     "text": [
      "--> sum of source/sink strengths: 0.003548880619023916\n"
     ]
    }
   ],
   "source": [
    "accuracy = sum([panel.sigma*panel.length for panel in panels])\n",
    "print('--> sum of source/sink strengths: {}'.format(accuracy))"
   ]
  },
  {
   "cell_type": "code",
   "execution_count": null,
   "metadata": {
    "collapsed": false
   },
   "outputs": [],
   "source": [
    "def get_velocity_field(panels, freestream, X, Y):\n",
    "    \"\"\"Computes the velocity field on a given 2D mesh \n",
    "    panels: the source panels\n",
    "    freestream: freestream conditions \n",
    "    X: x-coordinates of the mesh points\n",
    "    Y: y-coordinates of the mesh points\n",
    "    \n",
    "    u: x-component of the velocity vector field \n",
    "    v: y-component of the velocity vector field \n",
    "    \"\"\"\n",
    "    \n",
    "    #freestream contribution\n",
    "    u = (freestream.u_inf * math.cos(freestream.alpha) * numpy.ones_like(X, dtype=float))\n",
    "    v = (freestream.u_inf * math.sin(freestream.alpha) * numpy.ones_like(X, dtype=float))\n",
    "    \n",
    "    #add contribution from each source (superposition) \n",
    "    vec_integral = numpy.vectorize(integral)\n",
    "    for panel in panels:\n",
    "        u += (panel.sigma / (2.0 * math.pi) * vec_integral(X, Y, panel, 1, 0))\n",
    "        v += (panel.sigma / (2.0 * math.pi) * vec_integral(X, Y, panel, 0, 1))\n",
    "        \n",
    "    return u, v"
   ]
  },
  {
   "cell_type": "code",
   "execution_count": null,
   "metadata": {
    "collapsed": false
   },
   "outputs": [],
   "source": [
    "uF, vF = get_velocity_field(panels, freestream, X, Y)"
   ]
  },
  {
   "cell_type": "code",
   "execution_count": null,
   "metadata": {
    "collapsed": false
   },
   "outputs": [],
   "source": [
    "#plot velocity field \n",
    "width = 10\n",
    "pyplot.figure(figsize=(width, width))\n",
    "pyplot.xlabel('x', fontsize=16)\n",
    "pyplot.ylabel('y', fontsize=16)\n",
    "pyplot.streamplot(X,Y,uF,vF,\n",
    "                 density=2.0, linewidth=1, arrowsize=1, arrowstyle='->')\n",
    "pyplot.fill([panel.xc for panel in panels], \n",
    "           [panel.yc for panel in panels],\n",
    "           color='k', linestyle='solid', linewidth=2, zorder=2)\n",
    "pyplot.axis('scaled', adjustable='box')\n",
    "pyplot.xlim(xP_start, xP_end)\n",
    "pyplot.ylim(yP_start, yP_end)\n",
    "pyplot.title('Streamlines around a NACA 0012 airfoil - AoA = $()^o$)'.format(alpha), fontsize=16);"
   ]
  },
  {
   "cell_type": "code",
   "execution_count": null,
   "metadata": {
    "collapsed": false
   },
   "outputs": [],
   "source": [
    "# compute the pressure field\n",
    "cp = 1.0 - (uF**2+vF**2)/freestream.u_inf**2\n",
    "\n",
    "# plot the pressure field\n",
    "width = 10\n",
    "pyplot.figure(figsize=(width, width))\n",
    "pyplot.xlabel('x', fontsize=16)\n",
    "pyplot.ylabel('y', fontsize=16)\n",
    "contf = pyplot.contourf(X, Y, cp,\n",
    "                        levels=numpy.linspace(-2.0, 1.0, 100), extend='both')\n",
    "cbar = pyplot.colorbar(contf,\n",
    "                       orientation='horizontal',\n",
    "                       shrink=0.5, pad = 0.1,\n",
    "                       ticks=[-2.0, -1.0, 0.0, 1.0])\n",
    "cbar.set_label('$C_p$', fontsize=16)\n",
    "pyplot.fill([panel.xc for panel in panels],\n",
    "            [panel.yc for panel in panels],\n",
    "            color='k', linestyle='solid', linewidth=2, zorder=2)\n",
    "pyplot.axis('scaled', adjustable='box')\n",
    "pyplot.xlim(x_start, x_end)\n",
    "pyplot.ylim(y_start, y_end)\n",
    "pyplot.title('Contour of pressure field', fontsize=16);"
   ]
  },
  {
   "cell_type": "code",
   "execution_count": null,
   "metadata": {
    "collapsed": false
   },
   "outputs": [],
   "source": [
    "maxCp = numpy.max(cp)\n",
    "print('The maximum pressure coefficient is: {}'.format(maxCp))\n",
    "\n",
    "minCp = numpy.min(cp)\n",
    "print('The minimum pressure coefficient is: {}'.format(minCp))\n",
    "\n",
    "#find array indices of max pressure coefficient\n",
    "loc_maxCp = numpy.argmax(cp)\n",
    "maxCp_indices = numpy.unravel_index(loc_maxCp, cp.shape)\n",
    "loc_minCp = numpy.argmin(cp)\n",
    "minCp_indices = numpy.unravel_index(loc_minCp, cp.shape)\n",
    "\n",
    "print('The array indices of the maximum pressure coeffient are: {}'.format(maxCp_indices))\n",
    "print('The array indices of the minimum pressure coeffient are: {}'.format(minCp_indices))"
   ]
  },
  {
   "cell_type": "markdown",
   "metadata": {},
   "source": [
    "## Talk about these figures briefly\n",
    "\n"
   ]
  },
  {
   "cell_type": "markdown",
   "metadata": {
    "collapsed": true
   },
   "source": [
    "## Adding the wall"
   ]
  },
  {
   "cell_type": "code",
   "execution_count": null,
   "metadata": {
    "collapsed": false
   },
   "outputs": [],
   "source": [
    "#We will add a wall to our flow perpendicular to the fish\n",
    "\n",
    "u_freestreamS = u_inf * numpy.ones((Ng,Ng), dtype=float)\n",
    "v_freestreamS = numpy.zeros((Ng,Ng), dtype=float)\n",
    "\n",
    "class Source: \n",
    "    \n",
    "    def __init__(self, strength, x, y):\n",
    "        \n",
    "        self.strength = strength\n",
    "        self.x, self.y = x,y\n",
    "        \n",
    "    def velocity(self, X, Y):\n",
    "        \n",
    "        self.u = -self.strength/(2*math.pi)*(X-self.x)/((X-self.x)**2 + (Y-self.y)**2)\n",
    "        self.v = -self.strength/(2*math.pi)*(Y-self.y)/((X-self.x)**2 + (Y-self.y)**2)\n",
    "        \n",
    "    def stream_function(self, X, Y):\n",
    "        \n",
    "        self.psi = -self.strength/(2*math.pi)*numpy.arctan2((Y-self.y), (X-self.x))\n",
    "        \n",
    "N_sources = 100\n",
    "strength = 1.0 \n",
    "strength_source = strength/N_sources\n",
    "x_source = numpy.zeros(N_sources, dtype=float)\n",
    "y_source = numpy.linspace(-2.0, 2.0, N_sources)\n",
    "\n",
    "sources = numpy.empty(N_sources, dtype=object)\n",
    "for i in range(N_sources):\n",
    "    sources[i] = Source(strength_source, x_source[i], y_source[i])\n",
    "    sources[i].velocity(X, Y)\n",
    "    \n",
    "u = u_freestreamS.copy()\n",
    "v = v_freestreamS.copy()\n",
    "for source in sources:\n",
    "    u += source.u\n",
    "    v += source.v    \n",
    "\n",
    "\n",
    "sigma = 2*u_inf\n",
    "y_min, y_max = -2.0, 2.0 \n",
    "\n",
    "integrand_u = lambda s, x, y: x/(x**2 + (y-s)**2)\n",
    "integrand_v = lambda s, x, y: (y-s)/(x**2 + (y-s)**2)\n",
    "\n",
    "def integration(x, y, integrand):\n",
    "    return integrate.quad(integrand, y_min, y_max, args=(x, y))[0]\n",
    "\n",
    "vec_integration = numpy.vectorize(integration)\n",
    "\n",
    "u_sheet = -sigma/(2.0*numpy.pi)*vec_integration(X,Y,integrand_u)\n",
    "v_sheet = -sigma/(2.0*numpy.pi)*vec_integration(X,Y,integrand_v)\n",
    "\n",
    "u_wall = (u_freestreamS + u_sheet)\n",
    "v_wall = (v_freestreamS + v_sheet)"
   ]
  },
  {
   "cell_type": "code",
   "execution_count": null,
   "metadata": {
    "collapsed": true
   },
   "outputs": [],
   "source": [
    "U = u_wall + uF\n",
    "V = v_wall + vF"
   ]
  },
  {
   "cell_type": "code",
   "execution_count": null,
   "metadata": {
    "collapsed": false
   },
   "outputs": [],
   "source": [
    "size=10\n",
    "#pyplot.figure(figsize=(size,(y_end-y_start)/(x_end-x_start)*size))\n",
    "pyplot.grid(True)\n",
    "pyplot.xlabel('x', fontsize=16)\n",
    "pyplot.ylabel('y', fontsize=16)\n",
    "pyplot.streamplot(X, Y, U, V, density=2, linewidth=1, arrowsize=1, arrowstyle='->')\n",
    "pyplot.axvline(0.0, (y_min-y_start)/(y_end-y_start), (y_max-y_start)/(y_end-y_start), color='k', linewidth=4)\n",
    "\n",
    "magnitude = numpy.sqrt(U**2 + V**2)\n",
    "j_stagn, i_stagn = numpy.unravel_index(magnitude.argmin(), magnitude.shape)\n",
    "\n",
    "pyplot.xlim(x_start, x_end)\n",
    "pyplot.ylim(y_start, y_end)\n",
    "\n",
    "pyplot.plot(x_fish100,y_fish, color='r',linewidth=3)"
   ]
  },
  {
   "cell_type": "code",
   "execution_count": null,
   "metadata": {
    "collapsed": false
   },
   "outputs": [],
   "source": [
    "# compute the pressure field\n",
    "cp = 1.0 - (U**2+V**2)/freestream.u_inf**2\n",
    "\n",
    "# plot the pressure field\n",
    "width = 10\n",
    "pyplot.figure(figsize=(width, width))\n",
    "pyplot.xlabel('x', fontsize=16)\n",
    "pyplot.ylabel('y', fontsize=16)\n",
    "contf = pyplot.contourf(X, Y, cp,\n",
    "                        levels=numpy.linspace(-2.0, 1.0, 100), extend='both')\n",
    "cbar = pyplot.colorbar(contf,\n",
    "                       orientation='horizontal',\n",
    "                       shrink=0.5, pad = 0.1,\n",
    "                       ticks=[-2.0, -1.0, 0.0, 1.0])\n",
    "cbar.set_label('$C_p$', fontsize=16)\n",
    "pyplot.fill([panel.xc for panel in panels],\n",
    "            [panel.yc for panel in panels],\n",
    "            color='k', linestyle='solid', linewidth=2, zorder=2)\n",
    "pyplot.axis('scaled', adjustable='box')\n",
    "pyplot.xlim(x_start, x_end)\n",
    "pyplot.ylim(y_start, y_end)\n",
    "pyplot.title('Contour of pressure field', fontsize=16);"
   ]
  },
  {
   "cell_type": "code",
   "execution_count": null,
   "metadata": {
    "collapsed": false
   },
   "outputs": [],
   "source": [
    "#We will detect changes in the pressure coefficient as we move the fish closer to the wall\n",
    "\n",
    "x_fish50 = x_fish + 0.50\n",
    "x_fish25 = x_fish + 0.25\n",
    "x_fish10 = x_fish + 0.10\n",
    "\n",
    "panels50 = define_panels(x_fish50, y_fish, N)\n",
    "panels25 = define_panels(x_fish25, y_fish, N)\n",
    "panels10 = define_panels(x_fish10, y_fish, N)\n",
    "\n",
    "A50 = build_matrix(panels50)\n",
    "b50 = build_rhs(panels50, freestream)\n",
    "\n",
    "A25 = build_matrix(panels25)\n",
    "b25 = build_rhs(panels25, freestream)\n",
    "\n",
    "A10 = build_matrix(panels10)\n",
    "b10 = build_rhs(panels, freestream)\n",
    "\n",
    "solve_linear_system(A50,b50,panels50)\n",
    "solve_linear_system(A25,b25,panels25)\n",
    "solve_linear_system(A10,b10,panels10)\n",
    "\n",
    "get_tangential_velocity(panels50, freestream)\n",
    "get_tangential_velocity(panels25, freestream)\n",
    "get_tangential_velocity(panels10, freestream)\n",
    "\n",
    "get_pressure_coefficient(panels50, freestream)\n",
    "get_pressure_coefficient(panels25, freestream)\n",
    "get_pressure_coefficient(panels10, freestream)\n",
    "\n",
    "uF50, vF50 = get_velocity_field(panels50, freestream, X, Y)\n",
    "uF25, vF25 = get_velocity_field(panels25, freestream, X, Y)\n",
    "uF10, vF10 = get_velocity_field(panels10, freestream, X, Y)\n",
    "\n",
    "U50,V50 = u_wall + uF50, v_wall + vF50\n",
    "U25,V25 = u_wall + uF25, v_wall + vF25\n",
    "U10,V10 = u_wall + uF10, v_wall + vF10\n",
    "\n",
    "cp50 = 1.0 - (U50**2+V50**2)/freestream.u_inf**2\n",
    "cp25 = 1.0 - (U25**2+V25**2)/freestream.u_inf**2\n",
    "cp10 = 1.0 - (U10**2+V10**2)/freestream.u_inf**2"
   ]
  },
  {
   "cell_type": "code",
   "execution_count": null,
   "metadata": {
    "collapsed": false
   },
   "outputs": [],
   "source": [
    "# plot the pressure field - 0.5 away from wall\n",
    "width = 10\n",
    "pyplot.figure(figsize=(width, width))\n",
    "pyplot.xlabel('x', fontsize=16)\n",
    "pyplot.ylabel('y', fontsize=16)\n",
    "contf = pyplot.contourf(X, Y, cp10,\n",
    "                        levels=numpy.linspace(-2.0, 1.0, 100), extend='both')\n",
    "cbar = pyplot.colorbar(contf,\n",
    "                       orientation='horizontal',\n",
    "                       shrink=0.5, pad = 0.1,\n",
    "                       ticks=[-2.0, -1.0, 0.0, 1.0])\n",
    "cbar.set_label('$C_p$', fontsize=16)\n",
    "pyplot.fill([panel.xc for panel in panels10],\n",
    "            [panel.yc for panel in panels10],\n",
    "            color='k', linestyle='solid', linewidth=2, zorder=2)\n",
    "pyplot.axis('scaled', adjustable='box')\n",
    "pyplot.xlim(0.0, 0.75)\n",
    "pyplot.ylim(-0.5, 0.5)\n",
    "pyplot.title('Contour of pressure field', fontsize=16);"
   ]
  },
  {
   "cell_type": "code",
   "execution_count": null,
   "metadata": {
    "collapsed": false
   },
   "outputs": [],
   "source": [
    "pyplot.figure()\n",
    "pyplot.suptitle('Contour of Pressure Plots, gap (d) between fish and wall varied', size=40)\n",
    "\n",
    "pyplot.subplot(221)\n",
    "pyplot.title('d = 1.0', size=30)\n",
    "pyplot.xlim(xP_start, xP_end)\n",
    "pyplot.ylim(yP_start, yP_end)\n",
    "pyplot.xlabel('x', size=30)\n",
    "pyplot.ylabel('y', size=30)\n",
    "pyplot.contourf(X, Y, cp,levels=numpy.linspace(-2.0, 1.0, 100), extend='both')\n",
    "pyplot.fill([panel.xc for panel in panels],\n",
    "            [panel.yc for panel in panels],\n",
    "            color='k', linestyle='solid', linewidth=2, zorder=2)\n",
    "\n",
    "pyplot.subplot(222)\n",
    "pyplot.title('d = 0.5', size=30)\n",
    "pyplot.xlim(xP_start, xP_end)\n",
    "pyplot.ylim(yP_start, yP_end)\n",
    "pyplot.xlabel('x', size=30)\n",
    "pyplot.ylabel('y', size=30)\n",
    "pyplot.contourf(X, Y, cp50,levels=numpy.linspace(-2.0, 1.0, 100), extend='both')\n",
    "pyplot.fill([panel.xc for panel in panels50],\n",
    "            [panel.yc for panel in panels50],\n",
    "            color='k', linestyle='solid', linewidth=2, zorder=2)\n",
    "\n",
    "pyplot.subplot(223)\n",
    "pyplot.title('d = 0.25', size=30)\n",
    "pyplot.xlim(xP_start, xP_end)\n",
    "pyplot.ylim(yP_start, yP_end)\n",
    "pyplot.xlabel('x', size=30)\n",
    "pyplot.ylabel('y', size=30)\n",
    "pyplot.contourf(X, Y, cp25,levels=numpy.linspace(-2.0, 1.0, 100), extend='both')\n",
    "pyplot.fill([panel.xc for panel in panels25],\n",
    "            [panel.yc for panel in panels25],\n",
    "            color='k', linestyle='solid', linewidth=2, zorder=2)\n",
    "\n",
    "pyplot.subplot(224)\n",
    "pyplot.title('d = 0.10', size=30)\n",
    "pyplot.xlim(xP_start, xP_end)\n",
    "pyplot.ylim(yP_start, yP_end)\n",
    "pyplot.xlabel('x', size=30)\n",
    "pyplot.ylabel('y', size=30)\n",
    "pyplot.contourf(X, Y, cp10,levels=numpy.linspace(-2.0, 1.0, 100), extend='both')\n",
    "pyplot.fill([panel.xc for panel in panels10],\n",
    "            [panel.yc for panel in panels10],\n",
    "            color='k', linestyle='solid', linewidth=2, zorder=2)"
   ]
  },
  {
   "cell_type": "code",
   "execution_count": null,
   "metadata": {
    "collapsed": true
   },
   "outputs": [],
   "source": []
  },
  {
   "cell_type": "markdown",
   "metadata": {
    "collapsed": true
   },
   "source": [
    "## Finding changes in the pressure coefficient "
   ]
  },
  {
   "cell_type": "markdown",
   "metadata": {},
   "source": [
    "# d = 1.0"
   ]
  },
  {
   "cell_type": "code",
   "execution_count": null,
   "metadata": {
    "collapsed": false
   },
   "outputs": [],
   "source": [
    "maxCp = numpy.max(cp)\n",
    "print('The maximum pressure coefficient is: {}'.format(maxCp))\n",
    "\n",
    "minCp = numpy.min(cp)\n",
    "print('The minimum pressure coefficient is: {}'.format(minCp))\n",
    "\n",
    "#find array indices of max pressure coefficient\n",
    "loc_maxCp = numpy.argmax(cp)\n",
    "maxCp_indices = numpy.unravel_index(loc_maxCp, cp.shape)\n",
    "loc_minCp = numpy.argmin(cp)\n",
    "minCp_indices = numpy.unravel_index(loc_minCp, cp.shape)\n",
    "\n",
    "print('The array indices of the maximum pressure coeffient are: {}'.format(maxCp_indices))\n",
    "print('The array indices of the minimum pressure coeffient are: {}'.format(minCp_indices))"
   ]
  },
  {
   "cell_type": "markdown",
   "metadata": {},
   "source": [
    "# d = 0.5"
   ]
  },
  {
   "cell_type": "code",
   "execution_count": null,
   "metadata": {
    "collapsed": false
   },
   "outputs": [],
   "source": [
    "maxCp = numpy.max(cp50)\n",
    "print('The maximum pressure coefficient is: {}'.format(maxCp))\n",
    "\n",
    "minCp = numpy.min(cp50)\n",
    "print('The minimum pressure coefficient is: {}'.format(minCp))\n",
    "\n",
    "#find array indices of max pressure coefficient\n",
    "loc_maxCp = numpy.argmax(cp50)\n",
    "maxCp_indices = numpy.unravel_index(loc_maxCp, cp50.shape)\n",
    "loc_minCp = numpy.argmin(cp50)\n",
    "minCp_indices = numpy.unravel_index(loc_minCp, cp50.shape)\n",
    "\n",
    "print('The array indices of the maximum pressure coeffient are: {}'.format(maxCp_indices))\n",
    "print('The array indices of the minimum pressure coeffient are: {}'.format(minCp_indices))"
   ]
  },
  {
   "cell_type": "markdown",
   "metadata": {},
   "source": [
    "# d = 0.25"
   ]
  },
  {
   "cell_type": "code",
   "execution_count": null,
   "metadata": {
    "collapsed": false
   },
   "outputs": [],
   "source": [
    "maxCp = numpy.max(cp25)\n",
    "print('The maximum pressure coefficient is: {}'.format(maxCp))\n",
    "\n",
    "minCp = numpy.min(cp25)\n",
    "print('The minimum pressure coefficient is: {}'.format(minCp))\n",
    "\n",
    "#find array indices of max pressure coefficient\n",
    "loc_maxCp = numpy.argmax(cp25)\n",
    "maxCp_indices = numpy.unravel_index(loc_maxCp, cp25.shape)\n",
    "loc_minCp = numpy.argmin(cp25)\n",
    "minCp_indices = numpy.unravel_index(loc_minCp, cp25.shape)\n",
    "\n",
    "print('The array indices of the maximum pressure coeffient are: {}'.format(maxCp_indices))\n",
    "print('The array indices of the minimum pressure coeffient are: {}'.format(minCp_indices))"
   ]
  },
  {
   "cell_type": "markdown",
   "metadata": {},
   "source": [
    "# d = 0.1"
   ]
  },
  {
   "cell_type": "code",
   "execution_count": null,
   "metadata": {
    "collapsed": false
   },
   "outputs": [],
   "source": [
    "maxCp = numpy.max(cp10)\n",
    "print('The maximum pressure coefficient is: {}'.format(maxCp))\n",
    "\n",
    "minCp = numpy.min(cp10)\n",
    "print('The minimum pressure coefficient is: {}'.format(minCp))\n",
    "\n",
    "#find array indices of max pressure coefficient\n",
    "loc_maxCp = numpy.argmax(cp10)\n",
    "maxCp_indices = numpy.unravel_index(loc_maxCp, cp10.shape)\n",
    "loc_minCp = numpy.argmin(cp10)\n",
    "minCp_indices = numpy.unravel_index(loc_minCp, cp10.shape)\n",
    "\n",
    "print('The array indices of the maximum pressure coeffient are: {}'.format(maxCp_indices))\n",
    "print('The array indices of the minimum pressure coeffient are: {}'.format(minCp_indices))"
   ]
  },
  {
   "cell_type": "code",
   "execution_count": null,
   "metadata": {
    "collapsed": true
   },
   "outputs": [],
   "source": []
  },
  {
   "cell_type": "markdown",
   "metadata": {},
   "source": [
    "## How do our results compare to the literature? "
   ]
  },
  {
   "cell_type": "markdown",
   "metadata": {},
   "source": [
    "Discussion; model limitations"
   ]
  },
  {
   "cell_type": "markdown",
   "metadata": {},
   "source": [
    "## Challenge question: \n",
    "\n",
    "Now that we know how the pressure around the cavefish's head changes as it approaches a wall... how does the pressure around the cavefish's body changes as it swims parallel to a wall? Let's start by rotating our airfoi"
   ]
  },
  {
   "cell_type": "markdown",
   "metadata": {},
   "source": [
    "## References\n",
    "\n",
    "[1] http://www.fishbase.org/summary/Astyanax-mexicanus.html\n",
    "\n",
    "[2] Rétaux, S., & Casane, D. (2013). Evolution of eye development in the darkness of caves: adaptation, drift, or both?. EvoDevo, 4(1), 26.\n",
    "\n",
    "[3] "
   ]
  },
  {
   "cell_type": "code",
   "execution_count": null,
   "metadata": {
    "collapsed": true
   },
   "outputs": [],
   "source": []
  }
 ],
 "metadata": {
  "anaconda-cloud": {},
  "kernelspec": {
   "display_name": "Python [Root]",
   "language": "python",
   "name": "Python [Root]"
  },
  "language_info": {
   "codemirror_mode": {
    "name": "ipython",
    "version": 3
   },
   "file_extension": ".py",
   "mimetype": "text/x-python",
   "name": "python",
   "nbconvert_exporter": "python",
   "pygments_lexer": "ipython3",
   "version": "3.5.2"
  }
 },
 "nbformat": 4,
 "nbformat_minor": 0
}
