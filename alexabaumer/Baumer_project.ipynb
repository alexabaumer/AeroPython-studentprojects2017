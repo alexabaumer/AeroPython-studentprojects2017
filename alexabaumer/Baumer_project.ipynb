{
 "cells": [
  {
   "cell_type": "markdown",
   "metadata": {
    "collapsed": true
   },
   "source": [
    "## Title: M"
   ]
  },
  {
   "cell_type": "markdown",
   "metadata": {},
   "source": [
    "The Mexican blind cave fish (Astyanax mexicanus) is a freshwater fish living in large sections of the southwest, including New Mexico, Texas and eastern and central Mexico [1]. Populations of this fish dwell in dark caves, resulting in de-pigmentation and degenerated or total loss of eyesight. Due to the commonality of the Astyanax and the two separate populations, surface and cave, it has been an ideal model for studying eye development (and lack thereof) [2]. Even though the cave population of the fish are blind, they are still able to avoid objects and hunt for prey by using their lateral line. This sensory system allows a fish to respond to changes in its surroundings by detecting flow stimuli, governed by hydrodynamics [3]. \n"
   ]
  },
  {
   "cell_type": "markdown",
   "metadata": {},
   "source": [
    "image of fish"
   ]
  },
  {
   "cell_type": "markdown",
   "metadata": {},
   "source": [
    "This project will explore the changes in flow around a blind cave fish as it glides towards a wall by using potential flow theory. Building off work done by Hassan (1991), this project will use a panel method on a NACA 0013 airfoil to represent the body of the fish. After establishing what the flow looks like surrounding the fish in open water, a wall will be added to the flow and the body of the fish will be moved progressively closer to the wall, looking at changes in streamlines and pressure coefficient along the body.  \n"
   ]
  },
  {
   "cell_type": "code",
   "execution_count": null,
   "metadata": {
    "collapsed": true
   },
   "outputs": [],
   "source": [
    "#First, we will import our libraries \n",
    "\n",
    "import numpy\n",
    "import scipy \n",
    "from matplotlib import pyplot \n",
    "%matplotlib inline "
   ]
  },
  {
   "cell_type": "code",
   "execution_count": null,
   "metadata": {
    "collapsed": true
   },
   "outputs": [],
   "source": [
    "#We will import the NACA 0013 airfoil from UIUC airfoil database \n"
   ]
  },
  {
   "cell_type": "code",
   "execution_count": null,
   "metadata": {
    "collapsed": true
   },
   "outputs": [],
   "source": []
  },
  {
   "cell_type": "markdown",
   "metadata": {},
   "source": [
    "## References\n",
    "\n",
    "[1]\n"
   ]
  }
 ],
 "metadata": {
  "kernelspec": {
   "display_name": "Python [Root]",
   "language": "python",
   "name": "Python [Root]"
  },
  "language_info": {
   "codemirror_mode": {
    "name": "ipython",
    "version": 3
   },
   "file_extension": ".py",
   "mimetype": "text/x-python",
   "name": "python",
   "nbconvert_exporter": "python",
   "pygments_lexer": "ipython3",
   "version": "3.5.2"
  }
 },
 "nbformat": 4,
 "nbformat_minor": 0
}
